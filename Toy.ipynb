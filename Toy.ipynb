{
 "cells": [
  {
   "cell_type": "markdown",
   "metadata": {},
   "source": [
    "The idea is to use DCTR for parameterized reweighting in order to do anomaly detection.  The setting is that there is some feature m where the signal is expected to be resonant.  There are other features x that can be used to enhance signal over background.  In the CWoLa hunting methodology, one can only use features x that don't sculpt a bump (a looser requirement than being independent from m, but clearly that would be sufficient); then a parameteric fit based on the sidebands is used to estimate the background in the signal region.  In this new approach, a DCTR model is used to reweight simulation to data in away from the signal region.  This model is parameterized in m and then interpolated to the signal region.  The reweighted simulation in the signal region can then be used to make a classifier (using x) as well as estimate the background.  There is no need for a sideband fit if the reweighting works well."
   ]
  },
  {
   "cell_type": "code",
   "execution_count": 1,
   "metadata": {},
   "outputs": [
    {
     "name": "stderr",
     "output_type": "stream",
     "text": [
      "Using TensorFlow backend.\n",
      "/usr/local/anaconda3/lib/python3.6/site-packages/tensorflow/python/framework/dtypes.py:523: FutureWarning: Passing (type, 1) or '1type' as a synonym of type is deprecated; in a future version of numpy, it will be understood as (type, (1,)) / '(1,)type'.\n",
      "  _np_qint8 = np.dtype([(\"qint8\", np.int8, 1)])\n",
      "/usr/local/anaconda3/lib/python3.6/site-packages/tensorflow/python/framework/dtypes.py:524: FutureWarning: Passing (type, 1) or '1type' as a synonym of type is deprecated; in a future version of numpy, it will be understood as (type, (1,)) / '(1,)type'.\n",
      "  _np_quint8 = np.dtype([(\"quint8\", np.uint8, 1)])\n",
      "/usr/local/anaconda3/lib/python3.6/site-packages/tensorflow/python/framework/dtypes.py:525: FutureWarning: Passing (type, 1) or '1type' as a synonym of type is deprecated; in a future version of numpy, it will be understood as (type, (1,)) / '(1,)type'.\n",
      "  _np_qint16 = np.dtype([(\"qint16\", np.int16, 1)])\n",
      "/usr/local/anaconda3/lib/python3.6/site-packages/tensorflow/python/framework/dtypes.py:526: FutureWarning: Passing (type, 1) or '1type' as a synonym of type is deprecated; in a future version of numpy, it will be understood as (type, (1,)) / '(1,)type'.\n",
      "  _np_quint16 = np.dtype([(\"quint16\", np.uint16, 1)])\n",
      "/usr/local/anaconda3/lib/python3.6/site-packages/tensorflow/python/framework/dtypes.py:527: FutureWarning: Passing (type, 1) or '1type' as a synonym of type is deprecated; in a future version of numpy, it will be understood as (type, (1,)) / '(1,)type'.\n",
      "  _np_qint32 = np.dtype([(\"qint32\", np.int32, 1)])\n",
      "/usr/local/anaconda3/lib/python3.6/site-packages/tensorflow/python/framework/dtypes.py:532: FutureWarning: Passing (type, 1) or '1type' as a synonym of type is deprecated; in a future version of numpy, it will be understood as (type, (1,)) / '(1,)type'.\n",
      "  np_resource = np.dtype([(\"resource\", np.ubyte, 1)])\n"
     ]
    }
   ],
   "source": [
    "import numpy as np\n",
    "import matplotlib.pyplot as plt\n",
    "from keras.layers import Input, Dense, Dropout\n",
    "from keras.models import Model, Sequential\n",
    "from sklearn.metrics import roc_curve, auc\n",
    "from sklearn.model_selection import train_test_split"
   ]
  },
  {
   "cell_type": "markdown",
   "metadata": {},
   "source": [
    "Let's make signal region and sideband regions."
   ]
  },
  {
   "cell_type": "code",
   "execution_count": 25,
   "metadata": {},
   "outputs": [],
   "source": [
    "N_data = 1000000\n",
    "N_MC = 1000000\n",
    "N_signal = 10000\n",
    "\n",
    "m_background_data = np.random.uniform(0,1,N_data)\n",
    "m_background_MC = np.random.uniform(0,1,N_MC)\n",
    "m_signal = np.random.normal(0.5,0.1,N_signal)\n",
    "\n",
    "x_background_data = np.random.normal(-0.5+2.*m_background_data,0.8,N_data)\n",
    "x_background_MC = np.random.normal(-0.4+2.*m_background_MC,1.1,N_MC)\n",
    "x_signal = np.random.normal(1.5,0.8,N_signal)"
   ]
  },
  {
   "cell_type": "code",
   "execution_count": 26,
   "metadata": {},
   "outputs": [
    {
     "data": {
      "text/plain": [
       "Text(0,0.5,'Normalized to unity')"
      ]
     },
     "execution_count": 26,
     "metadata": {},
     "output_type": "execute_result"
    },
    {
     "data": {
      "image/png": "[encoded data removed]",
      "text/plain": [
       "<matplotlib.figure.Figure at 0x1434af438>"
      ]
     },
     "metadata": {},
     "output_type": "display_data"
    }
   ],
   "source": [
    "_,_,_=plt.hist(x_background_data,bins=np.linspace(-4,4,20),density=True,alpha=0.5,label=\"Background Data\")\n",
    "_,_,_=plt.hist(x_background_MC,bins=np.linspace(-4,4,20),density=True,alpha=0.5,label=\"Sim. MC\")\n",
    "_,_,_=plt.hist(x_signal,bins=np.linspace(-4,4,20),density=True,alpha=0.5,label=\"Signal\")\n",
    "plt.legend(frameon=False)\n",
    "plt.xlabel(\"x\")\n",
    "plt.ylabel(\"Normalized to unity\")"
   ]
  },
  {
   "cell_type": "code",
   "execution_count": 27,
   "metadata": {},
   "outputs": [
    {
     "data": {
      "text/plain": [
       "Text(0,0.5,'x')"
      ]
     },
     "execution_count": 27,
     "metadata": {},
     "output_type": "execute_result"
    },
    {
     "data": {
      "image/png": "[encoded data removed]",
      "text/plain": [
       "<matplotlib.figure.Figure at 0x143475cc0>"
      ]
     },
     "metadata": {},
     "output_type": "display_data"
    }
   ],
   "source": [
    "plt.hist2d(m_background_data,x_background_data)\n",
    "plt.xlabel(\"m\")\n",
    "plt.ylabel(\"x\")"
   ]
  },
  {
   "cell_type": "code",
   "execution_count": 28,
   "metadata": {},
   "outputs": [],
   "source": [
    "SR_low = 0.4\n",
    "SR_high = 0.6"
   ]
  },
  {
   "cell_type": "code",
   "execution_count": 29,
   "metadata": {},
   "outputs": [],
   "source": [
    "#Prepare the DCTR training, excluding the SR.\n",
    "\n",
    "Data_labels = np.ones(len(m_background_data))\n",
    "Sim_labels = np.zeros(len(m_background_MC))\n",
    "\n",
    "X_background_data = np.reshape(np.concatenate([m_background_data,x_background_data]),[len(m_background_data),2],order='F')\n",
    "X_signal = np.reshape(np.concatenate([m_signal,x_signal]),[len(m_signal),2],order='F')\n",
    "X_background_sim = np.reshape(np.concatenate([m_background_MC,x_background_MC]),[len(m_background_MC),2],order='F')\n",
    "\n",
    "X = np.concatenate([X_background_data[(m_background_data < SR_low) + (m_background_data > SR_high)],X_background_sim[(m_background_MC < SR_low) + (m_background_MC > SR_high)]])\n",
    "Y = np.concatenate([Data_labels[(m_background_data < SR_low) + (m_background_data > SR_high)],Sim_labels[(m_background_MC < SR_low) + (m_background_MC > SR_high)]])\n",
    "X_train, X_test, Y_train, Y_test = train_test_split(X, Y, test_size=0.5)"
   ]
  },
  {
   "cell_type": "code",
   "execution_count": 37,
   "metadata": {},
   "outputs": [],
   "source": [
    "cmodel = Sequential()\n",
    "cmodel.add(Dense(64, input_dim=2, activation='elu'))\n",
    "cmodel.add(Dropout(0.1))\n",
    "cmodel.add(Dense(128, activation='elu'))\n",
    "cmodel.add(Dropout(0.1))\n",
    "cmodel.add(Dense(256, activation='elu'))\n",
    "cmodel.add(Dropout(0.1))\n",
    "cmodel.add(Dense(32, activation='elu'))\n",
    "cmodel.add(Dropout(0.1))\n",
    "cmodel.add(Dense(1, activation='sigmoid'))\n",
    "cmodel.compile(loss='binary_crossentropy', optimizer='adam', metrics=['accuracy'])"
   ]
  },
  {
   "cell_type": "code",
   "execution_count": 38,
   "metadata": {},
   "outputs": [
    {
     "name": "stdout",
     "output_type": "stream",
     "text": [
      "Epoch 1/5\n",
      "800049/800049 [==============================] - 66s 83us/step - loss: 0.6735 - acc: 0.5714\n",
      "Epoch 2/5\n",
      "800049/800049 [==============================] - 64s 80us/step - loss: 0.6703 - acc: 0.5763\n",
      "Epoch 3/5\n",
      "800049/800049 [==============================] - 64s 81us/step - loss: 0.6698 - acc: 0.5771\n",
      "Epoch 4/5\n",
      "800049/800049 [==============================] - 64s 80us/step - loss: 0.6696 - acc: 0.5773\n",
      "Epoch 5/5\n",
      "800049/800049 [==============================] - 63s 79us/step - loss: 0.6695 - acc: 0.5769\n"
     ]
    },
    {
     "data": {
      "text/plain": [
       "<keras.callbacks.History at 0x14fc3ccc0>"
      ]
     },
     "execution_count": 38,
     "metadata": {},
     "output_type": "execute_result"
    }
   ],
   "source": [
    "cmodel.fit(X_train,Y_train, epochs=5, batch_size=200)"
   ]
  },
  {
   "cell_type": "code",
   "execution_count": 35,
   "metadata": {},
   "outputs": [],
   "source": [
    "weights_test = cmodel.predict(X_test)\n",
    "weights_test = weights_test / (1.-weights_test)"
   ]
  },
  {
   "cell_type": "code",
   "execution_count": 36,
   "metadata": {},
   "outputs": [
    {
     "data": {
      "text/plain": [
       "Text(0,0.5,'Normalized to unity')"
      ]
     },
     "execution_count": 36,
     "metadata": {},
     "output_type": "execute_result"
    },
    {
     "data": {
      "image/png": "[encoded data removed]",
      "text/plain": [
       "<matplotlib.figure.Figure at 0x105c50fd0>"
      ]
     },
     "metadata": {},
     "output_type": "display_data"
    }
   ],
   "source": [
    "_,_,_=plt.hist(X_test[Y_test==1][:,1],bins=np.linspace(-4,4,20),density=True,alpha=0.5,label=\"Background Data\")\n",
    "_,_,_=plt.hist(X_test[Y_test==0][:,1],bins=np.linspace(-4,4,20),density=True,alpha=0.5,label=\"Sim. MC\")\n",
    "_,_,_=plt.hist(X_test[Y_test==0][:,1],bins=np.linspace(-4,4,20),density=True,weights = weights_test[Y_test==0],alpha=0.5,label=\"Weighted Sim. MC\")\n",
    "plt.legend(frameon=False)\n",
    "plt.xlabel(\"x\")\n",
    "plt.ylabel(\"Normalized to unity\")"
   ]
  },
  {
   "cell_type": "code",
   "execution_count": 39,
   "metadata": {},
   "outputs": [],
   "source": [
    "X_SR = np.concatenate([X_background_data[(m_background_data > SR_low) * (m_background_data < SR_high)],X_background_sim[(m_background_MC > SR_low) * (m_background_MC < SR_high)]])\n",
    "Y_SR = np.concatenate([Data_labels[(m_background_data > SR_low) * (m_background_data < SR_high)],Sim_labels[(m_background_MC > SR_low) * (m_background_MC < SR_high)]])\n",
    "X_train_SR, X_test_SR, Y_train_SR, Y_test_SR = train_test_split(X_SR, Y_SR, test_size=0.5)"
   ]
  },
  {
   "cell_type": "code",
   "execution_count": 40,
   "metadata": {},
   "outputs": [],
   "source": [
    "weights_test_SR = cmodel.predict(X_test_SR)\n",
    "weights_test_SR = weights_test_SR / (1.-weights_test_SR)"
   ]
  },
  {
   "cell_type": "code",
   "execution_count": 41,
   "metadata": {},
   "outputs": [
    {
     "data": {
      "text/plain": [
       "Text(0,0.5,'Normalized to unity')"
      ]
     },
     "execution_count": 41,
     "metadata": {},
     "output_type": "execute_result"
    },
    {
     "data": {
      "image/png": "[encoded data removed]",
      "text/plain": [
       "<matplotlib.figure.Figure at 0x151b9d0b8>"
      ]
     },
     "metadata": {},
     "output_type": "display_data"
    }
   ],
   "source": [
    "#Now, let's check in the SR.\n",
    "_,_,_=plt.hist(X_test_SR[Y_test_SR==1][:,1],bins=np.linspace(-4,4,20),density=True,alpha=0.5,label=\"Background Data\")\n",
    "_,_,_=plt.hist(X_test_SR[Y_test_SR==0][:,1],bins=np.linspace(-4,4,20),density=True,alpha=0.5,label=\"Sim. MC\")\n",
    "_,_,_=plt.hist(X_test_SR[Y_test_SR==0][:,1],bins=np.linspace(-4,4,20),density=True,weights = weights_test_SR[Y_test_SR==0],alpha=0.5,label=\"Weighted Sim. MC\")\n",
    "_,_,_=plt.hist(x_signal,bins=np.linspace(-4,4,20),density=True,alpha=0.5,label=\"Signal\")\n",
    "plt.legend(frameon=False)\n",
    "plt.xlabel(\"x\")\n",
    "plt.ylabel(\"Normalized to unity\")"
   ]
  },
  {
   "cell_type": "markdown",
   "metadata": {},
   "source": [
    "Next, let's train a classifier to distinguish the reweighted signal region simulation from the data (with and without signal)"
   ]
  },
  {
   "cell_type": "code",
   "execution_count": 43,
   "metadata": {},
   "outputs": [],
   "source": [
    "#First, no signal\n",
    "weights_train_SR = cmodel.predict(X_train_SR)\n",
    "weights_train_SR = weights_train_SR / (1.-weights_train_SR)\n",
    "W_train_SR = []\n",
    "for i in range(len(Y_train_SR)):\n",
    "    if (Y_train_SR[i]==1):\n",
    "        W_train_SR += [1.]\n",
    "    else:\n",
    "        W_train_SR += [weights_train_SR[i]]\n",
    "        pass\n",
    "    pass\n",
    "W_train_SR=np.array(W_train_SR)\n",
    "\n",
    "weights_test_SR = cmodel.predict(X_test_SR)\n",
    "weights_test_SR = weights_test_SR / (1.-weights_test_SR)\n",
    "W_test_SR = []\n",
    "for i in range(len(Y_test_SR)):\n",
    "    if (weights_test_SR[i]==1):\n",
    "        W_test_SR += [1.]\n",
    "    else:\n",
    "        W_test_SR += [weights_test_SR[i]]\n",
    "        pass\n",
    "    pass\n",
    "W_test_SR = np.array(W_test_SR)\n",
    "W_test_SR = W_test_SR"
   ]
  },
  {
   "cell_type": "code",
   "execution_count": 45,
   "metadata": {},
   "outputs": [],
   "source": [
    "amodel = Sequential()\n",
    "amodel.add(Dense(10, input_dim=2, activation='elu'))\n",
    "amodel.add(Dropout(0.1))\n",
    "amodel.add(Dense(20, activation='elu'))\n",
    "amodel.add(Dropout(0.1))\n",
    "amodel.add(Dense(1, activation='sigmoid'))\n",
    "amodel.compile(loss='binary_crossentropy', optimizer='adam', metrics=['accuracy'])"
   ]
  },
  {
   "cell_type": "code",
   "execution_count": 46,
   "metadata": {},
   "outputs": [
    {
     "name": "stdout",
     "output_type": "stream",
     "text": [
      "Epoch 1/5\n",
      "199950/199950 [==============================] - 6s 29us/step - loss: 0.7260 - acc: 0.4798\n",
      "Epoch 2/5\n",
      "199950/199950 [==============================] - 5s 23us/step - loss: 0.7250 - acc: 0.4725\n",
      "Epoch 3/5\n",
      "199950/199950 [==============================] - 4s 22us/step - loss: 0.7250 - acc: 0.4697\n",
      "Epoch 4/5\n",
      "199950/199950 [==============================] - 4s 22us/step - loss: 0.7250 - acc: 0.4714\n",
      "Epoch 5/5\n",
      "199950/199950 [==============================] - 4s 22us/step - loss: 0.7249 - acc: 0.4717\n"
     ]
    },
    {
     "data": {
      "text/plain": [
       "<keras.callbacks.History at 0x1425dbb70>"
      ]
     },
     "execution_count": 46,
     "metadata": {},
     "output_type": "execute_result"
    }
   ],
   "source": [
    "amodel.fit(X_train_SR,Y_train_SR, epochs=5, sample_weight=W_train_SR,batch_size=200)"
   ]
  },
  {
   "cell_type": "code",
   "execution_count": 47,
   "metadata": {},
   "outputs": [],
   "source": [
    "amodel_nodctr = Sequential()\n",
    "amodel_nodctr.add(Dense(10, input_dim=2, activation='elu'))\n",
    "amodel_nodctr.add(Dropout(0.1))\n",
    "amodel_nodctr.add(Dense(20, activation='elu'))\n",
    "amodel_nodctr.add(Dropout(0.1))\n",
    "amodel_nodctr.add(Dense(1, activation='sigmoid'))\n",
    "amodel_nodctr.compile(loss='binary_crossentropy', optimizer='adam', metrics=['accuracy'])"
   ]
  },
  {
   "cell_type": "code",
   "execution_count": 48,
   "metadata": {},
   "outputs": [
    {
     "name": "stdout",
     "output_type": "stream",
     "text": [
      "Epoch 1/5\n",
      "199950/199950 [==============================] - 6s 30us/step - loss: 0.6803 - acc: 0.5561\n",
      "Epoch 2/5\n",
      "199950/199950 [==============================] - 4s 22us/step - loss: 0.6731 - acc: 0.5731\n",
      "Epoch 3/5\n",
      "199950/199950 [==============================] - 4s 22us/step - loss: 0.6724 - acc: 0.5744\n",
      "Epoch 4/5\n",
      "199950/199950 [==============================] - 4s 22us/step - loss: 0.6719 - acc: 0.5743\n",
      "Epoch 5/5\n",
      "199950/199950 [==============================] - 4s 22us/step - loss: 0.6711 - acc: 0.5764\n"
     ]
    },
    {
     "data": {
      "text/plain": [
       "<keras.callbacks.History at 0x1733f6940>"
      ]
     },
     "execution_count": 48,
     "metadata": {},
     "output_type": "execute_result"
    }
   ],
   "source": [
    "amodel_nodctr.fit(X_train_SR,Y_train_SR, epochs=5,batch_size=200)"
   ]
  },
  {
   "cell_type": "code",
   "execution_count": 50,
   "metadata": {},
   "outputs": [],
   "source": [
    "#Second, with signal\n",
    "X_SR_wsig = np.concatenate([np.concatenate([X_background_data[(m_background_data > SR_low)*(m_background_data < SR_high)],X_signal]),X_background_sim[(m_background_MC > SR_low)*(m_background_MC < SR_high)]])\n",
    "Y_SR_wsig = np.concatenate([np.concatenate([Data_labels[(m_background_data > SR_low)*(m_background_data < SR_high)],np.ones(len(X_signal))]),Sim_labels[(m_background_MC > SR_low)*(m_background_MC < SR_high)]])\n",
    "X_train_SR_wsig, X_test_SR_wsig, Y_train_SR_wsig, Y_test_SR_wsig = train_test_split(X_SR_wsig, Y_SR_wsig, test_size=0.5)\n",
    "\n",
    "weights_train_SR_withsig = cmodel.predict(X_train_SR_wsig)\n",
    "weights_train_SR_withsig = weights_train_SR_withsig / (1.-weights_train_SR_withsig)\n",
    "W_train_SR_withsig = []\n",
    "for i in range(len(Y_train_SR_wsig)):\n",
    "    if (weights_train_SR_withsig[i]==1):\n",
    "        W_train_SR_withsig += [1.]\n",
    "    else:\n",
    "        W_train_SR_withsig += [weights_train_SR_withsig[i]]\n",
    "        pass\n",
    "    pass\n",
    "W_train_SR_withsig = np.array(W_train_SR_withsig)\n",
    "W_train_SR_withsig = W_train_SR_withsig\n",
    "\n",
    "weights_test_SR_withsig = cmodel.predict(X_test_SR_wsig)\n",
    "weights_test_SR_withsig = weights_test_SR_withsig / (1.-weights_test_SR_withsig)\n",
    "W_test_SR_withsig = []\n",
    "for i in range(len(Y_test_SR_wsig)):\n",
    "    if (weights_test_SR_withsig[i]==1):\n",
    "        W_test_SR_withsig += [1.]\n",
    "    else:\n",
    "        W_test_SR_withsig += [weights_test_SR_withsig[i]]\n",
    "        pass\n",
    "    pass\n",
    "W_test_SR_withsig = np.array(W_test_SR_withsig)\n",
    "W_test_SR_withsig = W_test_SR_withsig"
   ]
  },
  {
   "cell_type": "code",
   "execution_count": 51,
   "metadata": {},
   "outputs": [],
   "source": [
    "amodel_wsig = Sequential()\n",
    "amodel_wsig.add(Dense(10, input_dim=2, activation='elu'))\n",
    "amodel_wsig.add(Dropout(0.1))\n",
    "amodel_wsig.add(Dense(20, activation='elu'))\n",
    "amodel_wsig.add(Dropout(0.1))\n",
    "amodel_wsig.add(Dense(1, activation='sigmoid'))\n",
    "amodel_wsig.compile(loss='binary_crossentropy', optimizer='adam', metrics=['accuracy'])"
   ]
  },
  {
   "cell_type": "code",
   "execution_count": 54,
   "metadata": {},
   "outputs": [
    {
     "name": "stdout",
     "output_type": "stream",
     "text": [
      "Epoch 1/5\n",
      "204950/204950 [==============================] - 6s 29us/step - loss: 0.8058 - acc: 0.5447\n",
      "Epoch 2/5\n",
      "204950/204950 [==============================] - 4s 22us/step - loss: 0.8022 - acc: 0.5632\n",
      "Epoch 3/5\n",
      "204950/204950 [==============================] - 4s 21us/step - loss: 0.8011 - acc: 0.5677\n",
      "Epoch 4/5\n",
      "204950/204950 [==============================] - 5s 22us/step - loss: 0.8008 - acc: 0.5685\n",
      "Epoch 5/5\n",
      "204950/204950 [==============================] - 4s 22us/step - loss: 0.8002 - acc: 0.5705\n"
     ]
    },
    {
     "data": {
      "text/plain": [
       "<keras.callbacks.History at 0x174201be0>"
      ]
     },
     "execution_count": 54,
     "metadata": {},
     "output_type": "execute_result"
    }
   ],
   "source": [
    "amodel_wsig.fit(X_train_SR_wsig,Y_train_SR_wsig, epochs=5, sample_weight=W_train_SR_withsig[:,0],batch_size=200)"
   ]
  },
  {
   "cell_type": "code",
   "execution_count": 55,
   "metadata": {},
   "outputs": [],
   "source": [
    "#One more training without weights"
   ]
  },
  {
   "cell_type": "code",
   "execution_count": 56,
   "metadata": {},
   "outputs": [],
   "source": [
    "#Now, some ROC curves\n",
    "predicts = amodel.predict(X_test_SR)\n",
    "roc = roc_curve(Y_test_SR,predicts,sample_weight=W_test_SR)\n",
    "\n",
    "predicts_nodctr = amodel_nodctr.predict(X_test_SR)\n",
    "roc_nodctr = roc_curve(Y_test_SR,predicts_nodctr)\n",
    "\n",
    "predicts_wsig = amodel_wsig.predict(X_test_SR_wsig)\n",
    "roc_wsig = roc_curve(Y_test_SR_wsig,predicts_wsig,sample_weight=W_test_SR_withsig)"
   ]
  },
  {
   "cell_type": "code",
   "execution_count": 57,
   "metadata": {},
   "outputs": [
    {
     "data": {
      "text/plain": [
       "<matplotlib.legend.Legend at 0x14f3ba908>"
      ]
     },
     "execution_count": 57,
     "metadata": {},
     "output_type": "execute_result"
    },
    {
     "data": {
      "image/png": "[encoded data removed]",
      "text/plain": [
       "<matplotlib.figure.Figure at 0x14f17ac88>"
      ]
     },
     "metadata": {},
     "output_type": "display_data"
    }
   ],
   "source": [
    "plt.plot(roc[0],roc[1],label=\"No Signal\")\n",
    "plt.plot(roc_nodctr[0],roc_nodctr[1],label=\"No Signal, no DCTR\")\n",
    "plt.plot(roc_wsig[0],roc_wsig[1],label=\"With Signal\")\n",
    "plt.plot([0,1],[0,1],color=\"gray\",ls=\":\",label=\"Random\")\n",
    "plt.xlabel(\"True Positive Rate\")\n",
    "plt.ylabel(\"False Positive Rate\")\n",
    "plt.legend(frameon=False)"
   ]
  }
 ],
 "metadata": {
  "kernelspec": {
   "display_name": "Python 3",
   "language": "python",
   "name": "python3"
  },
  "language_info": {
   "codemirror_mode": {
    "name": "ipython",
    "version": 3
   },
   "file_extension": ".py",
   "mimetype": "text/x-python",
   "name": "python",
   "nbconvert_exporter": "python",
   "pygments_lexer": "ipython3",
   "version": "3.6.9"
  }
 },
 "nbformat": 4,
 "nbformat_minor": 2
}
