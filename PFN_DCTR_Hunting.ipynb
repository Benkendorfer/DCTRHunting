{
 "cells": [
  {
   "cell_type": "code",
   "execution_count": 1,
   "metadata": {},
   "outputs": [],
   "source": [
    "import os\n",
    "os.environ[\"CUDA_VISIBLE_DEVICES\"]=\"0\""
   ]
  },
  {
   "cell_type": "code",
   "execution_count": 2,
   "metadata": {},
   "outputs": [
    {
     "name": "stderr",
     "output_type": "stream",
     "text": [
      "Using TensorFlow backend.\n"
     ]
    }
   ],
   "source": [
    "import numpy as np\n",
    "\n",
    "# energyflow imports\n",
    "import energyflow as ef\n",
    "from energyflow.archs import PFN\n",
    "from energyflow.utils import data_split, to_categorical\n",
    "from tensorflow.keras.callbacks import EarlyStopping, ModelCheckpoint"
   ]
  },
  {
   "cell_type": "markdown",
   "metadata": {},
   "source": [
    "# Utilities"
   ]
  },
  {
   "cell_type": "code",
   "execution_count": 5,
   "metadata": {},
   "outputs": [],
   "source": [
    "def pad_events(events, val=0, max_length=None):\n",
    "    event_lengths = [event.shape[0] for event in events]\n",
    "    if max_length is None:\n",
    "        max_length = max(event_lengths)\n",
    "    return np.asarray([np.vstack((event, val*np.ones((max_length - ev_len, event.shape[1]))))\n",
    "                     for event,ev_len in zip(events, event_lengths)])\n",
    "\n",
    "# events: a numpy object array of numpy arrays of events\n",
    "def pad_events_generator(events, targets,  batch_size, weights = None):\n",
    "    num_events = len(events)\n",
    "    \n",
    "#     events = np.asarray([event if len(event) >= initial_pad else \n",
    "#                              np.vstack((event, np.zeros((initial_pad - len(event), event.shape[1]))))\n",
    "#                              for event in events])\n",
    "    \n",
    "    while True:\n",
    "        start = 0\n",
    "        while start < num_events:\n",
    "            end = min(start + batch_size, num_events)\n",
    "            if weights is None:\n",
    "                yield pad_events(events[start:end]), targets[start:end]\n",
    "            else:\n",
    "                yield pad_events(events[start:end]), targets[start:end], weights[start:end]\n",
    "            start = end"
   ]
  },
  {
   "cell_type": "markdown",
   "metadata": {},
   "source": [
    "# Load Data"
   ]
  },
  {
   "cell_type": "code",
   "execution_count": 51,
   "metadata": {},
   "outputs": [],
   "source": [
    "# base_dir = '/data0/users/aandreassen/DCTRHunting/'\n",
    "# sample0 = np.load(base_dir + 'herwig_full_event_with_mass_preprocessed.npy', allow_pickle=True)\n",
    "# sample1 = np.load(base_dir + 'pythia_full_event_with_mass_preprocessed.npy', allow_pickle=True)\n",
    "# signal  = np.load(base_dir + 'signal_full_event_with_mass_preprocessed.npy', allow_pickle=True)"
   ]
  },
  {
   "cell_type": "code",
   "execution_count": null,
   "metadata": {},
   "outputs": [],
   "source": [
    "# print(max([len(s) for s in sample0]))\n",
    "# print(max([len(s) for s in sample1]))\n",
    "# print(max([len(s) for s in signal]))"
   ]
  },
  {
   "cell_type": "code",
   "execution_count": 52,
   "metadata": {},
   "outputs": [],
   "source": [
    "#sample0_padded = pad_events(sample0, max_length = 551)\n",
    "#sample1_padded = pad_events(sample1, max_length = 551)\n",
    "#signal_padded = pad_events(signal, max_length = 551)\n",
    "\n",
    "#np.save(base_dir + 'herwig_full_event_with_mass_preprocessed_padded.npy', sample0_padded)\n",
    "#np.save(base_dir + 'pythia_full_event_with_mass_preprocessed_padded.npy', sample1_padded)\n",
    "#np.save(base_dir + 'signal_full_event_with_mass_preprocessed_padded.npy', signal_padded)"
   ]
  },
  {
   "cell_type": "code",
   "execution_count": 57,
   "metadata": {},
   "outputs": [],
   "source": [
    "base_dir = '/data0/users/aandreassen/DCTRHunting/'\n",
    "sample0 = np.load(base_dir + 'herwig_leading_two_jets_with_mass_preprocessed_padded.npy', allow_pickle=True)\n",
    "sample1 = np.load(base_dir + 'pythia_leading_two_jets_with_mass_preprocessed_padded.npy', allow_pickle=True)[:990000]\n",
    "signal  = np.load(base_dir + 'signal_leading_two_jets_with_mass_preprocessed_padded.npy', allow_pickle=True)[:10000]"
   ]
  },
  {
   "cell_type": "code",
   "execution_count": null,
   "metadata": {},
   "outputs": [],
   "source": []
  },
  {
   "cell_type": "code",
   "execution_count": 58,
   "metadata": {},
   "outputs": [],
   "source": [
    "SR_low  = 3250/1000\n",
    "SR_high = 3750/1000"
   ]
  },
  {
   "cell_type": "code",
   "execution_count": 59,
   "metadata": {},
   "outputs": [],
   "source": [
    "sample0_SR = [event for event in sample0 if event[0,-1]>SR_low and event[0,-1]<SR_high]\n",
    "sample0_BR = [event for event in sample0 if event[0,-1]<SR_low or  event[0,-1]>SR_high]"
   ]
  },
  {
   "cell_type": "code",
   "execution_count": 60,
   "metadata": {},
   "outputs": [],
   "source": [
    "sample1_SR = [event for event in sample1 if event[0,-1]>SR_low and event[0,-1]<SR_high]\n",
    "sample1_BR = [event for event in sample1 if event[0,-1]<SR_low or  event[0,-1]>SR_high]"
   ]
  },
  {
   "cell_type": "code",
   "execution_count": 61,
   "metadata": {},
   "outputs": [],
   "source": [
    "signal_SR = [event for event in signal if event[0,-1]>SR_low and event[0,-1]<SR_high]\n",
    "signal_BR = [event for event in signal if event[0,-1]<SR_low or  event[0,-1]>SR_high]"
   ]
  },
  {
   "cell_type": "code",
   "execution_count": 62,
   "metadata": {},
   "outputs": [
    {
     "data": {
      "text/plain": [
       "0.0547044069277248"
      ]
     },
     "execution_count": 62,
     "metadata": {},
     "output_type": "execute_result"
    }
   ],
   "source": [
    "len(signal_SR)/len(sample1_SR)"
   ]
  },
  {
   "cell_type": "code",
   "execution_count": 63,
   "metadata": {},
   "outputs": [],
   "source": [
    "y0 = np.zeros(len(sample0_BR))\n",
    "y1 = np.ones(len(sample1_BR))\n",
    "ys = np.ones(len(signal_BR))"
   ]
  },
  {
   "cell_type": "code",
   "execution_count": 64,
   "metadata": {},
   "outputs": [],
   "source": [
    "X = np.concatenate([sample0_BR, sample1_BR, signal_BR], axis=0)\n",
    "y = np.concatenate([y0, y1, ys], axis=0)"
   ]
  },
  {
   "cell_type": "code",
   "execution_count": null,
   "metadata": {},
   "outputs": [],
   "source": []
  },
  {
   "cell_type": "code",
   "execution_count": 65,
   "metadata": {},
   "outputs": [],
   "source": [
    "Y = to_categorical(y, num_classes=2)"
   ]
  },
  {
   "cell_type": "code",
   "execution_count": 66,
   "metadata": {},
   "outputs": [],
   "source": [
    "# do train/val/test split \n",
    "(X_train, X_val, X_test,\n",
    " Y_train, Y_val, Y_test) = data_split(X, Y, val=0.1, test=0)"
   ]
  },
  {
   "cell_type": "code",
   "execution_count": 67,
   "metadata": {},
   "outputs": [],
   "source": [
    "n_train = len(X_train)\n",
    "n_val = len(X_val)"
   ]
  },
  {
   "cell_type": "markdown",
   "metadata": {},
   "source": [
    "## SR"
   ]
  },
  {
   "cell_type": "code",
   "execution_count": 68,
   "metadata": {},
   "outputs": [],
   "source": [
    "y0_SR = np.zeros(len(sample0_SR))\n",
    "y1_SR = np.ones(len(sample1_SR))\n",
    "ys_SR = np.ones(len(signal_SR))"
   ]
  },
  {
   "cell_type": "code",
   "execution_count": 69,
   "metadata": {},
   "outputs": [],
   "source": [
    "X_SR = np.concatenate([sample0_SR, sample1_SR, signal_SR], axis=0)\n",
    "y_SR = np.concatenate([y0_SR, y1_SR, ys_SR], axis=0)"
   ]
  },
  {
   "cell_type": "code",
   "execution_count": 70,
   "metadata": {},
   "outputs": [],
   "source": [
    "Y_SR = to_categorical(y_SR, num_classes=2)"
   ]
  },
  {
   "cell_type": "code",
   "execution_count": 71,
   "metadata": {},
   "outputs": [],
   "source": [
    "# do train/val/test split \n",
    "(X_SR_train, X_SR_val, X_SR_test,\n",
    " Y_SR_train, Y_SR_val, Y_SR_test) = data_split(X_SR, Y_SR, val=0.1, test=0)"
   ]
  },
  {
   "cell_type": "code",
   "execution_count": 72,
   "metadata": {},
   "outputs": [],
   "source": [
    "n_SR_train = len(X_SR_train)\n",
    "n_SR_val = len(X_SR_val)"
   ]
  },
  {
   "cell_type": "markdown",
   "metadata": {},
   "source": [
    "# Build Model"
   ]
  },
  {
   "cell_type": "code",
   "execution_count": 73,
   "metadata": {},
   "outputs": [
    {
     "name": "stdout",
     "output_type": "stream",
     "text": [
      "Model: \"model_2\"\n",
      "__________________________________________________________________________________________________\n",
      "Layer (type)                    Output Shape         Param #     Connected to                     \n",
      "==================================================================================================\n",
      "input (InputLayer)              (None, None, 4)      0                                            \n",
      "__________________________________________________________________________________________________\n",
      "tdist_0 (TimeDistributed)       (None, None, 100)    500         input[0][0]                      \n",
      "__________________________________________________________________________________________________\n",
      "activation_8 (Activation)       (None, None, 100)    0           tdist_0[0][0]                    \n",
      "__________________________________________________________________________________________________\n",
      "tdist_1 (TimeDistributed)       (None, None, 100)    10100       activation_8[0][0]               \n",
      "__________________________________________________________________________________________________\n",
      "activation_9 (Activation)       (None, None, 100)    0           tdist_1[0][0]                    \n",
      "__________________________________________________________________________________________________\n",
      "tdist_2 (TimeDistributed)       (None, None, 128)    12928       activation_9[0][0]               \n",
      "__________________________________________________________________________________________________\n",
      "mask (Lambda)                   (None, None)         0           input[0][0]                      \n",
      "__________________________________________________________________________________________________\n",
      "activation_10 (Activation)      (None, None, 128)    0           tdist_2[0][0]                    \n",
      "__________________________________________________________________________________________________\n",
      "sum (Dot)                       (None, 128)          0           mask[0][0]                       \n",
      "                                                                 activation_10[0][0]              \n",
      "__________________________________________________________________________________________________\n",
      "dense_0 (Dense)                 (None, 100)          12900       sum[0][0]                        \n",
      "__________________________________________________________________________________________________\n",
      "activation_11 (Activation)      (None, 100)          0           dense_0[0][0]                    \n",
      "__________________________________________________________________________________________________\n",
      "dense_1 (Dense)                 (None, 100)          10100       activation_11[0][0]              \n",
      "__________________________________________________________________________________________________\n",
      "activation_12 (Activation)      (None, 100)          0           dense_1[0][0]                    \n",
      "__________________________________________________________________________________________________\n",
      "dense_2 (Dense)                 (None, 100)          10100       activation_12[0][0]              \n",
      "__________________________________________________________________________________________________\n",
      "activation_13 (Activation)      (None, 100)          0           dense_2[0][0]                    \n",
      "__________________________________________________________________________________________________\n",
      "output (Dense)                  (None, 2)            202         activation_13[0][0]              \n",
      "__________________________________________________________________________________________________\n",
      "activation_14 (Activation)      (None, 2)            0           output[0][0]                     \n",
      "==================================================================================================\n",
      "Total params: 56,830\n",
      "Trainable params: 56,830\n",
      "Non-trainable params: 0\n",
      "__________________________________________________________________________________________________\n"
     ]
    }
   ],
   "source": [
    "Phi_sizes, F_sizes = (100, 100, 128), (100, 100, 100)\n",
    "# build architecture\n",
    "pfn = PFN(input_dim=4, Phi_sizes=Phi_sizes, F_sizes=F_sizes)"
   ]
  },
  {
   "cell_type": "markdown",
   "metadata": {},
   "source": [
    "# Train Model"
   ]
  },
  {
   "cell_type": "code",
   "execution_count": 74,
   "metadata": {},
   "outputs": [],
   "source": [
    "batch_size = 1000"
   ]
  },
  {
   "cell_type": "code",
   "execution_count": 75,
   "metadata": {},
   "outputs": [],
   "source": [
    "earlystopping = EarlyStopping(patience=10, restore_best_weights=True)\n",
    "checkpoint = ModelCheckpoint('./saved_models/pythia_pythia-with-signal.model', save_best_only=True)\n",
    "\n",
    "callbacks = [earlystopping, checkpoint]"
   ]
  },
  {
   "cell_type": "code",
   "execution_count": null,
   "metadata": {
    "scrolled": true
   },
   "outputs": [
    {
     "name": "stdout",
     "output_type": "stream",
     "text": [
      "Train on 1518229 samples, validate on 168692 samples\n",
      "Epoch 1/20\n",
      "    192/1518229 [..............................] - ETA: 4:24:44 - loss: 90.5241 - acc: 0.5312 "
     ]
    },
    {
     "name": "stderr",
     "output_type": "stream",
     "text": [
      "/home/aandreassen/python-envs/py36/lib/python3.6/site-packages/keras/callbacks/callbacks.py:95: RuntimeWarning: Method (on_train_batch_end) is slow compared to the batch update (0.128360). Check your callbacks.\n",
      "  % (hook_name, delta_t_median), RuntimeWarning)\n"
     ]
    },
    {
     "name": "stdout",
     "output_type": "stream",
     "text": [
      "  34112/1518229 [..............................] - ETA: 18:57 - loss: 2.6969 - acc: 0.5132"
     ]
    }
   ],
   "source": [
    "# train model\n",
    "pfn.fit(X_train, Y_train,\n",
    "                  epochs=20,\n",
    "                  validation_data=(X_val, Y_val),\n",
    "                  verbose=1, \n",
    "                  callbacks = callbacks)"
   ]
  },
  {
   "cell_type": "markdown",
   "metadata": {},
   "source": [
    "# Get Weights"
   ]
  },
  {
   "cell_type": "code",
   "execution_count": 32,
   "metadata": {},
   "outputs": [
    {
     "name": "stdout",
     "output_type": "stream",
     "text": [
      "168/167 [==============================] - 4s 21ms/step\n"
     ]
    }
   ],
   "source": [
    "train_preds = pfn.predict_generator(pad_events_generator(X_SR_train, Y_SR_train, batch_size),\n",
    "                  steps=n_SR_train/batch_size,\n",
    "                  verbose=1)"
   ]
  },
  {
   "cell_type": "code",
   "execution_count": 33,
   "metadata": {},
   "outputs": [
    {
     "name": "stdout",
     "output_type": "stream",
     "text": [
      "19/18 [==============================] - 0s 23ms/step\n"
     ]
    }
   ],
   "source": [
    "val_preds = pfn.predict_generator(pad_events_generator(X_SR_val, Y_SR_val, batch_size),\n",
    "                  steps=n_SR_val/batch_size,\n",
    "                  verbose=1)"
   ]
  },
  {
   "cell_type": "code",
   "execution_count": 34,
   "metadata": {},
   "outputs": [],
   "source": [
    "weights_SR_train = train_preds[:,1]/train_preds[:,0]\n",
    "weights_SR_val = val_preds[:,1]/val_preds[:,0]"
   ]
  },
  {
   "cell_type": "code",
   "execution_count": 35,
   "metadata": {},
   "outputs": [],
   "source": [
    "for i,(y, _) in enumerate(Y_SR_train):\n",
    "  # Don't reweigth elements from class 1 y==0 <-> target ==[0, 1]\n",
    "  if y == 0:\n",
    "    weights_SR_train[i] = 1"
   ]
  },
  {
   "cell_type": "code",
   "execution_count": 36,
   "metadata": {},
   "outputs": [],
   "source": [
    "for i,(y, _) in enumerate(Y_SR_val):\n",
    "  # Don't reweigth elements from class 1 y==0 <-> target ==[0, 1]\n",
    "  if y == 0:\n",
    "    weights_SR_val[i] = 1"
   ]
  },
  {
   "cell_type": "code",
   "execution_count": 53,
   "metadata": {
    "scrolled": true
   },
   "outputs": [
    {
     "name": "stdout",
     "output_type": "stream",
     "text": [
      "Model: \"model_3\"\n",
      "__________________________________________________________________________________________________\n",
      "Layer (type)                    Output Shape         Param #     Connected to                     \n",
      "==================================================================================================\n",
      "input (InputLayer)              (None, None, 4)      0                                            \n",
      "__________________________________________________________________________________________________\n",
      "tdist_0 (TimeDistributed)       (None, None, 100)    500         input[0][0]                      \n",
      "__________________________________________________________________________________________________\n",
      "activation_15 (Activation)      (None, None, 100)    0           tdist_0[0][0]                    \n",
      "__________________________________________________________________________________________________\n",
      "tdist_1 (TimeDistributed)       (None, None, 100)    10100       activation_15[0][0]              \n",
      "__________________________________________________________________________________________________\n",
      "activation_16 (Activation)      (None, None, 100)    0           tdist_1[0][0]                    \n",
      "__________________________________________________________________________________________________\n",
      "tdist_2 (TimeDistributed)       (None, None, 128)    12928       activation_16[0][0]              \n",
      "__________________________________________________________________________________________________\n",
      "mask (Lambda)                   (None, None)         0           input[0][0]                      \n",
      "__________________________________________________________________________________________________\n",
      "activation_17 (Activation)      (None, None, 128)    0           tdist_2[0][0]                    \n",
      "__________________________________________________________________________________________________\n",
      "sum (Dot)                       (None, 128)          0           mask[0][0]                       \n",
      "                                                                 activation_17[0][0]              \n",
      "__________________________________________________________________________________________________\n",
      "dense_0 (Dense)                 (None, 100)          12900       sum[0][0]                        \n",
      "__________________________________________________________________________________________________\n",
      "activation_18 (Activation)      (None, 100)          0           dense_0[0][0]                    \n",
      "__________________________________________________________________________________________________\n",
      "dense_1 (Dense)                 (None, 100)          10100       activation_18[0][0]              \n",
      "__________________________________________________________________________________________________\n",
      "activation_19 (Activation)      (None, 100)          0           dense_1[0][0]                    \n",
      "__________________________________________________________________________________________________\n",
      "dense_2 (Dense)                 (None, 100)          10100       activation_19[0][0]              \n",
      "__________________________________________________________________________________________________\n",
      "activation_20 (Activation)      (None, 100)          0           dense_2[0][0]                    \n",
      "__________________________________________________________________________________________________\n",
      "output (Dense)                  (None, 2)            202         activation_20[0][0]              \n",
      "__________________________________________________________________________________________________\n",
      "activation_21 (Activation)      (None, 2)            0           output[0][0]                     \n",
      "==================================================================================================\n",
      "Total params: 56,830\n",
      "Trainable params: 56,830\n",
      "Non-trainable params: 0\n",
      "__________________________________________________________________________________________________\n"
     ]
    }
   ],
   "source": [
    "Phi_sizes, F_sizes = (100, 100, 128), (100, 100, 100)\n",
    "# build architecture\n",
    "pfn2 = PFN(input_dim=4, Phi_sizes=Phi_sizes, F_sizes=F_sizes)\n",
    "\n",
    "earlystopping = EarlyStopping(patience=10, restore_best_weights=True)\n",
    "checkpoint = ModelCheckpoint('pythia_pythia-with-signal_SR.model', save_best_only=True)\n",
    "\n",
    "callbacks = [earlystopping, checkpoint]"
   ]
  },
  {
   "cell_type": "code",
   "execution_count": 54,
   "metadata": {},
   "outputs": [],
   "source": [
    "batch_size = 1000"
   ]
  },
  {
   "cell_type": "code",
   "execution_count": 55,
   "metadata": {
    "scrolled": true
   },
   "outputs": [
    {
     "name": "stdout",
     "output_type": "stream",
     "text": [
      "Epoch 1/5\n",
      "168/167 [==============================] - 6s 34ms/step - loss: 12.3268 - acc: 0.4991 - val_loss: 1.9443 - val_acc: 0.5154\n",
      "Epoch 2/5\n",
      "168/167 [==============================] - 5s 29ms/step - loss: 1.4450 - acc: 0.5001 - val_loss: 1.2400 - val_acc: 0.5177\n",
      "Epoch 3/5\n",
      "168/167 [==============================] - 5s 30ms/step - loss: 1.0286 - acc: 0.4988 - val_loss: 1.0986 - val_acc: 0.5166\n",
      "Epoch 4/5\n",
      "168/167 [==============================] - 5s 30ms/step - loss: 0.9330 - acc: 0.5000 - val_loss: 0.8247 - val_acc: 0.4857\n",
      "Epoch 5/5\n",
      "168/167 [==============================] - 5s 30ms/step - loss: 1.0040 - acc: 0.4990 - val_loss: 0.8383 - val_acc: 0.4854\n"
     ]
    },
    {
     "data": {
      "text/plain": [
       "<keras.callbacks.callbacks.History at 0x7f816aaaf1d0>"
      ]
     },
     "execution_count": 55,
     "metadata": {},
     "output_type": "execute_result"
    }
   ],
   "source": [
    "# train model\n",
    "pfn2.fit_generator(pad_events_generator(X_SR_train, Y_SR_train, batch_size, weights_SR_train),\n",
    "                  epochs=5,\n",
    "                  steps_per_epoch=n_SR_train/batch_size,\n",
    "                  validation_data=pad_events_generator(X_SR_val, Y_SR_val, batch_size, weights_SR_val),\n",
    "                  validation_steps=n_SR_val/batch_size,\n",
    "                  verbose=1, \n",
    "                  callbacks = callbacks)"
   ]
  },
  {
   "cell_type": "markdown",
   "metadata": {},
   "source": [
    "# ROC Curves"
   ]
  },
  {
   "cell_type": "code",
   "execution_count": 56,
   "metadata": {},
   "outputs": [],
   "source": [
    "from sklearn.metrics import roc_curve\n",
    "from matplotlib import pyplot as plt"
   ]
  },
  {
   "cell_type": "code",
   "execution_count": 57,
   "metadata": {},
   "outputs": [
    {
     "name": "stdout",
     "output_type": "stream",
     "text": [
      "19/18 [==============================] - 0s 22ms/step\n"
     ]
    }
   ],
   "source": [
    "final_preds = pfn2.predict_generator(pad_events_generator(X_SR_val, Y_SR_val, batch_size),\n",
    "                  steps=n_SR_val/batch_size,\n",
    "                  verbose=1)"
   ]
  },
  {
   "cell_type": "code",
   "execution_count": 58,
   "metadata": {},
   "outputs": [],
   "source": [
    "roc = roc_curve(Y_SR_val.argmax(axis = -1), final_preds[:,1], weights_SR_val)"
   ]
  },
  {
   "cell_type": "code",
   "execution_count": 59,
   "metadata": {},
   "outputs": [
    {
     "data": {
      "image/png": "[encoded data removed]",
      "text/plain": [
       "<Figure size 432x288 with 1 Axes>"
      ]
     },
     "metadata": {
      "needs_background": "light"
     },
     "output_type": "display_data"
    }
   ],
   "source": [
    "plt.plot(roc[0], roc[1], label='pythia vs pythia-with-signal', color='red')\n",
    "plt.plot([0,1],[0,1], label='random', ls=\"--\", color='k')\n",
    "plt.xlabel(\"True Positive\")\n",
    "plt.ylabel(\"False Negative\")\n",
    "plt.legend()\n",
    "plt.show()"
   ]
  },
  {
   "cell_type": "code",
   "execution_count": 60,
   "metadata": {},
   "outputs": [
    {
     "name": "stdout",
     "output_type": "stream",
     "text": [
      "10/10 [==============================] - 0s 21ms/step\n",
      "10/10 [==============================] - 0s 26ms/step\n"
     ]
    }
   ],
   "source": [
    "y_signal = np.ones(len(signal))\n",
    "signal_preds = pfn2.predict_generator(pad_events_generator(signal, to_categorical(y_signal, 2), batch_size),\n",
    "                  steps=len(signal)/batch_size,\n",
    "                  verbose=1)\n",
    "\n",
    "signal_weights = pfn.predict_generator(pad_events_generator(signal, to_categorical(y_signal, 2), batch_size),\n",
    "                  steps=len(signal)/batch_size,\n",
    "                  verbose=1)\n",
    "\n",
    "signal_weights = signal_weights[:,1]/signal_weights[:,0]"
   ]
  },
  {
   "cell_type": "code",
   "execution_count": 61,
   "metadata": {},
   "outputs": [
    {
     "name": "stdout",
     "output_type": "stream",
     "text": [
      "990/990 [==============================] - 19s 19ms/step\n",
      "990/990 [==============================] - 20s 20ms/step\n"
     ]
    }
   ],
   "source": [
    "y_pythia = np.zeros(len(pythia1))\n",
    "pythia_preds = pfn2.predict_generator(pad_events_generator(pythia1, to_categorical(y_pythia, 2), batch_size),\n",
    "                  steps=len(pythia1)/batch_size,\n",
    "                  verbose=1)\n",
    "\n",
    "pythia_weights = pfn.predict_generator(pad_events_generator(pythia1, to_categorical(y_pythia, 2), batch_size),\n",
    "                  steps=len(pythia1)/batch_size,\n",
    "                  verbose=1)\n",
    "\n",
    "pythia_weights = pythia_weights[:,1]/pythia_weights[:,0]"
   ]
  },
  {
   "cell_type": "code",
   "execution_count": 62,
   "metadata": {},
   "outputs": [
    {
     "data": {
      "text/plain": [
       "990000"
      ]
     },
     "execution_count": 62,
     "metadata": {},
     "output_type": "execute_result"
    }
   ],
   "source": [
    "len(pythia1)"
   ]
  },
  {
   "cell_type": "code",
   "execution_count": 63,
   "metadata": {},
   "outputs": [],
   "source": [
    "y_roc = np.concatenate([y_signal, y_pythia])"
   ]
  },
  {
   "cell_type": "code",
   "execution_count": 64,
   "metadata": {},
   "outputs": [],
   "source": [
    "preds_roc = np.concatenate([signal_preds, pythia_preds])[:,1]"
   ]
  },
  {
   "cell_type": "code",
   "execution_count": 65,
   "metadata": {},
   "outputs": [],
   "source": [
    "weights_roc = np.concatenate([signal_weights, pythia_weights])"
   ]
  },
  {
   "cell_type": "code",
   "execution_count": 66,
   "metadata": {},
   "outputs": [],
   "source": [
    "sig_roc = roc_curve(y_roc, preds_roc, sample_weight = weights_roc)"
   ]
  },
  {
   "cell_type": "code",
   "execution_count": 67,
   "metadata": {},
   "outputs": [
    {
     "data": {
      "image/png": "[encoded data removed]",
      "text/plain": [
       "<Figure size 432x288 with 1 Axes>"
      ]
     },
     "metadata": {
      "needs_background": "light"
     },
     "output_type": "display_data"
    }
   ],
   "source": [
    "plt.plot(sig_roc[0], sig_roc[1], label='signal vs pythia', color='red')\n",
    "plt.plot([0,1],[0,1], label='random', ls=\"--\", color='k')\n",
    "plt.xlabel(\"True Positive\")\n",
    "plt.ylabel(\"False Negative\")\n",
    "plt.legend(loc='best')\n",
    "plt.show()"
   ]
  },
  {
   "cell_type": "code",
   "execution_count": 68,
   "metadata": {},
   "outputs": [
    {
     "name": "stderr",
     "output_type": "stream",
     "text": [
      "/opt/venv/lib/python3.6/site-packages/ipykernel_launcher.py:1: MatplotlibDeprecationWarning: \n",
      "The 'normed' kwarg was deprecated in Matplotlib 2.1 and will be removed in 3.1. Use 'density' instead.\n",
      "  \"\"\"Entry point for launching an IPython kernel.\n",
      "/opt/venv/lib/python3.6/site-packages/ipykernel_launcher.py:2: MatplotlibDeprecationWarning: \n",
      "The 'normed' kwarg was deprecated in Matplotlib 2.1 and will be removed in 3.1. Use 'density' instead.\n",
      "  \n"
     ]
    },
    {
     "data": {
      "image/png": "[encoded data removed]",
      "text/plain": [
       "<Figure size 432x288 with 1 Axes>"
      ]
     },
     "metadata": {
      "needs_background": "light"
     },
     "output_type": "display_data"
    }
   ],
   "source": [
    "plt.hist(signal_preds[:,1], bins = np.linspace(0,1,101), alpha = 0.5, normed=True, label = 'signal', weights=signal_weights)\n",
    "plt.hist(pythia_preds[:,1], bins = np.linspace(0,1,101), alpha = 0.5, normed=True, label='pythia', weights=pythia_weights)\n",
    "plt.legend(loc='best')\n",
    "plt.xlabel(\"P_{Signal+Pythia}\")\n",
    "plt.ylabel(\"Normalized probability\")\n",
    "plt.show()"
   ]
  },
  {
   "cell_type": "code",
   "execution_count": 69,
   "metadata": {},
   "outputs": [
    {
     "name": "stderr",
     "output_type": "stream",
     "text": [
      "/opt/venv/lib/python3.6/site-packages/ipykernel_launcher.py:1: RuntimeWarning: divide by zero encountered in true_divide\n",
      "  \"\"\"Entry point for launching an IPython kernel.\n",
      "/opt/venv/lib/python3.6/site-packages/ipykernel_launcher.py:1: RuntimeWarning: invalid value encountered in true_divide\n",
      "  \"\"\"Entry point for launching an IPython kernel.\n"
     ]
    },
    {
     "data": {
      "text/plain": [
       "[<matplotlib.lines.Line2D at 0x7f8168a18080>]"
      ]
     },
     "execution_count": 69,
     "metadata": {},
     "output_type": "execute_result"
    },
    {
     "data": {
      "image/png": "[encoded data removed]",
      "text/plain": [
       "<Figure size 432x288 with 1 Axes>"
      ]
     },
     "metadata": {
      "needs_background": "light"
     },
     "output_type": "display_data"
    }
   ],
   "source": [
    "plt.plot((roc[1]-roc[0])/roc[0])"
   ]
  },
  {
   "cell_type": "code",
   "execution_count": 70,
   "metadata": {},
   "outputs": [],
   "source": [
    "roc_now = roc_curve(Y_SR_val.argmax(axis = -1), val_preds[:,1])"
   ]
  },
  {
   "cell_type": "code",
   "execution_count": 71,
   "metadata": {},
   "outputs": [
    {
     "data": {
      "image/png": "[encoded data removed]",
      "text/plain": [
       "<Figure size 432x288 with 1 Axes>"
      ]
     },
     "metadata": {
      "needs_background": "light"
     },
     "output_type": "display_data"
    }
   ],
   "source": [
    "plt.plot(roc_now[0], roc_now[1], label='pythia vs herwig', color='red')\n",
    "plt.plot([0,1],[0,1], label='random', ls=\"--\", color='k')\n",
    "plt.xlabel(\"True Positive\")\n",
    "plt.ylabel(\"False Negative\")\n",
    "plt.legend()\n",
    "plt.show()"
   ]
  },
  {
   "cell_type": "code",
   "execution_count": 40,
   "metadata": {},
   "outputs": [
    {
     "ename": "ValueError",
     "evalue": "operands could not be broadcast together with shapes (2,) (16504,) ",
     "output_type": "error",
     "traceback": [
      "\u001b[0;31m---------------------------------------------------------------------------\u001b[0m",
      "\u001b[0;31mValueError\u001b[0m                                Traceback (most recent call last)",
      "\u001b[0;32m<ipython-input-40-5fe7cc76e731>\u001b[0m in \u001b[0;36m<module>\u001b[0;34m\u001b[0m\n\u001b[0;32m----> 1\u001b[0;31m \u001b[0mroc_now\u001b[0m\u001b[0;34m[\u001b[0m\u001b[0;36m1\u001b[0m\u001b[0;34m]\u001b[0m\u001b[0;34m-\u001b[0m\u001b[0mroc\u001b[0m\u001b[0;34m[\u001b[0m\u001b[0;36m1\u001b[0m\u001b[0;34m]\u001b[0m\u001b[0;34m\u001b[0m\u001b[0;34m\u001b[0m\u001b[0m\n\u001b[0m",
      "\u001b[0;31mValueError\u001b[0m: operands could not be broadcast together with shapes (2,) (16504,) "
     ]
    }
   ],
   "source": [
    "roc_now[1]-roc[1]"
   ]
  },
  {
   "cell_type": "code",
   "execution_count": null,
   "metadata": {},
   "outputs": [],
   "source": [
    "roc_now"
   ]
  },
  {
   "cell_type": "code",
   "execution_count": null,
   "metadata": {},
   "outputs": [],
   "source": [
    "val_preds[:,1].shape"
   ]
  },
  {
   "cell_type": "code",
   "execution_count": null,
   "metadata": {},
   "outputs": [],
   "source": []
  }
 ],
 "metadata": {
  "kernelspec": {
   "display_name": "Python 3",
   "language": "python",
   "name": "python3"
  },
  "language_info": {
   "codemirror_mode": {
    "name": "ipython",
    "version": 3
   },
   "file_extension": ".py",
   "mimetype": "text/x-python",
   "name": "python",
   "nbconvert_exporter": "python",
   "pygments_lexer": "ipython3",
   "version": "3.6.5"
  }
 },
 "nbformat": 4,
 "nbformat_minor": 2
}
